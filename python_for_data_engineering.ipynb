{
 "cells": [
  {
   "cell_type": "code",
   "execution_count": 1,
   "id": "3c488acb",
   "metadata": {
    "slideshow": {
     "slide_type": "skip"
    }
   },
   "outputs": [],
   "source": [
    "from IPython.display import Image\n",
    "    \n",
    "\n",
    "def whoami():\n",
    "    print(\"Zamzam Badruzaman\")\n",
    "    print(\"\"\"\n",
    "- Data Architect at Rakuten, Japan\n",
    "- ex-SOLUSI247, ex-Accenture\n",
    "- 10+ years in Data Engineering\n",
    "    \"\"\")\n",
    "def contact_me():\n",
    "    print(\"You can contact me on :\")\n",
    "    print(\"\"\"\n",
    "linkedin : https://www.linkedin.com/in/zamzambadruzaman\n",
    "telegram : t.me/azzambz\n",
    "ig       : @azzambz\n",
    "twitter  : @azzambz\n",
    "github   : @zamzambadruzaman\n",
    "Youtube  : Literasi Data\n",
    "\"\"\")\n",
    "\n",
    "def tell_me_what_is_data_engineering():\n",
    "    print(\"\"\"\n",
    "The key to understanding what data engineering lies in the “engineering” part. Engineers design and build things. \n",
    "“Data” engineers design and build pipelines that transform and transport data into a format wherein, by the time it reaches the Data scientist or other end users, it is in a highly usable state.\n",
    "\"\"\")\n"
   ]
  },
  {
   "cell_type": "markdown",
   "id": "66277ad4",
   "metadata": {
    "slideshow": {
     "slide_type": "slide"
    }
   },
   "source": [
    "<img src=\"https://etopian.com/wp-content/uploads/icon_python-300x300.png\" width=200/>\n",
    "\n",
    "# Python for Data Engineering\n",
    "idBigdata Meetup #30 x **Workshop**\n",
    "\n",
    "June 2021\n",
    "\n",
    "\n",
    "<table style=\"width:100%\">\n",
    "<tr>\n",
    "    <td><img src=\"https://idbigdata.com/official/wp-content/uploads/2014/12/logo_idBigData.png\" /></td>\n",
    "    <td><img src=\"http://kbi2019.idbigdata.com/wp-content/uploads/2019/10/lm-AIDI.png\" /></td>\n",
    "    <td><img src=\"http://kbi2019.idbigdata.com/wp-content/uploads/2019/09/ls-solusi247-kbi2019.png\" /></td>\n",
    "</tr>\n",
    "</table>\n",
    "\n",
    "\n",
    "\n",
    "\n"
   ]
  },
  {
   "cell_type": "markdown",
   "id": "b4bd5a4e",
   "metadata": {
    "slideshow": {
     "slide_type": "slide"
    }
   },
   "source": [
    "<img src=\"https://media-exp3.licdn.com/dms/image/C5103AQFDUyjZeS4KzQ/profile-displayphoto-shrink_200_200/0/1569520750263?e=1629936000&v=beta&t=s9jeomgWsbp6C39Fyu-a8zJiveHS5eK319wXSqJfFpE\" align='center' />"
   ]
  },
  {
   "cell_type": "markdown",
   "id": "4b7bdaf6",
   "metadata": {
    "slideshow": {
     "slide_type": "-"
    }
   },
   "source": [
    "### Hello, Data people!"
   ]
  },
  {
   "cell_type": "code",
   "execution_count": 2,
   "id": "5cac853c",
   "metadata": {
    "scrolled": true,
    "slideshow": {
     "slide_type": "fragment"
    }
   },
   "outputs": [
    {
     "name": "stdout",
     "output_type": "stream",
     "text": [
      "Zamzam Badruzaman\n",
      "\n",
      "- Data Architect at Rakuten, Japan\n",
      "- ex-SOLUSI247, ex-Accenture\n",
      "- 10+ years in Data Engineering\n",
      "    \n"
     ]
    }
   ],
   "source": [
    "whoami()"
   ]
  },
  {
   "cell_type": "code",
   "execution_count": 3,
   "id": "8b689220",
   "metadata": {
    "slideshow": {
     "slide_type": "fragment"
    }
   },
   "outputs": [
    {
     "name": "stdout",
     "output_type": "stream",
     "text": [
      "You can contact me on :\n",
      "\n",
      "linkedin : https://www.linkedin.com/in/zamzambadruzaman\n",
      "telegram : t.me/azzambz\n",
      "ig       : @azzambz\n",
      "twitter  : @azzambz\n",
      "github   : @zamzambadruzaman\n",
      "Youtube  : Literasi Data\n",
      "\n"
     ]
    }
   ],
   "source": [
    "contact_me()"
   ]
  },
  {
   "cell_type": "markdown",
   "id": "4f8e810e",
   "metadata": {
    "slideshow": {
     "slide_type": "slide"
    }
   },
   "source": [
    "## The Workshop will cover :\n",
    "- Intro to Python & Data Engineering\n",
    "- Sample Data pipeline development with python, this will include Pipeline creation, Data Validations & Job scheduling\n",
    "- Some best practices on Data engineering with Python\n",
    "\n",
    "## Won't cover\n",
    "- Advanced topic on Python & Data engineering\n",
    "- Digging deeper on any Data Engineering tools\n",
    "- Machine learning or any AI magic"
   ]
  },
  {
   "cell_type": "markdown",
   "id": "f85242f8",
   "metadata": {
    "slideshow": {
     "slide_type": "slide"
    }
   },
   "source": [
    "# So, what is \"Data Engineering\" ?"
   ]
  },
  {
   "cell_type": "markdown",
   "id": "cdd5c08b",
   "metadata": {
    "slideshow": {
     "slide_type": "fragment"
    }
   },
   "source": [
    "The key to understanding what data engineering lies in the “engineering” part. Engineers design and build things. \n",
    "“Data” engineers **design and build pipelines that transform and transport data into a format wherein, by the time it reaches the Data scientist or other end users, it is in a highly usable state**.\n",
    "\n",
    "Source : [Quanthub.com](https://quanthub.com/what-is-data-engineering/)"
   ]
  },
  {
   "cell_type": "markdown",
   "id": "bfcefc2f",
   "metadata": {
    "slideshow": {
     "slide_type": "slide"
    }
   },
   "source": [
    "## Data journey, in a traditional data architecture"
   ]
  },
  {
   "cell_type": "markdown",
   "id": "fa6d6b65",
   "metadata": {
    "slideshow": {
     "slide_type": "fragment"
    }
   },
   "source": [
    "<img src=\"images/traditional_data_arch.png\" />"
   ]
  },
  {
   "cell_type": "markdown",
   "id": "f8806600",
   "metadata": {
    "slideshow": {
     "slide_type": "slide"
    }
   },
   "source": [
    "## Data journey, in a modern data architecture"
   ]
  },
  {
   "cell_type": "markdown",
   "id": "0c240695",
   "metadata": {
    "slideshow": {
     "slide_type": "fragment"
    }
   },
   "source": [
    "<img src=\"images/modern_data_arch.png\" />"
   ]
  },
  {
   "cell_type": "markdown",
   "id": "369cb94e",
   "metadata": {
    "slideshow": {
     "slide_type": "slide"
    }
   },
   "source": [
    "# Why Python ?"
   ]
  },
  {
   "cell_type": "markdown",
   "id": "f42dbe37",
   "metadata": {
    "slideshow": {
     "slide_type": "fragment"
    }
   },
   "source": [
    "- Free & Easy\n",
    "- Dynamic (OOP, Functional)\n",
    "- Multi OS (Windows, Linux, MacOS)\n",
    "- Multi purpose (Web App, Desktop App, DevOps, Mobile App, Gaming, Data science, Robotics, Big Data Engineering etc)\n"
   ]
  },
  {
   "cell_type": "markdown",
   "id": "27e2faf3",
   "metadata": {
    "slideshow": {
     "slide_type": "fragment"
    }
   },
   "source": [
    "And yes, even i made this slides with Python.. 😊"
   ]
  },
  {
   "cell_type": "markdown",
   "id": "0e5caf50",
   "metadata": {
    "slideshow": {
     "slide_type": "slide"
    }
   },
   "source": [
    "## Seriously, Python is Easy!"
   ]
  },
  {
   "cell_type": "markdown",
   "id": "3013e19f",
   "metadata": {
    "slideshow": {
     "slide_type": "fragment"
    }
   },
   "source": [
    "#### Hello World, in some other languages.."
   ]
  },
  {
   "cell_type": "code",
   "execution_count": null,
   "id": "43dc4456",
   "metadata": {
    "slideshow": {
     "slide_type": "fragment"
    }
   },
   "outputs": [],
   "source": [
    "### C++ :\n",
    "\n",
    "#include <iostream>\n",
    "int main() {\n",
    "    std::cout << \"Hello, World!\";\n",
    "    return 0;\n",
    "}\n",
    "\n",
    "### Java :\n",
    "\n",
    "class HelloWorld {\n",
    "    public static void main(String[] args) {\n",
    "        System.out.println(\"Hello, World!\"); \n",
    "    }\n",
    "}"
   ]
  },
  {
   "cell_type": "markdown",
   "id": "bf899811",
   "metadata": {
    "slideshow": {
     "slide_type": "fragment"
    }
   },
   "source": [
    "<img src=\"https://tlgrm.eu/_/stickers/df1/326/df1326f5-cd9b-44c4-b65d-3dbc3953f7c5/12.jpg\" width=300px />"
   ]
  },
  {
   "cell_type": "markdown",
   "id": "200ae41a",
   "metadata": {
    "slideshow": {
     "slide_type": "slide"
    }
   },
   "source": [
    "### Hello World, in Python"
   ]
  },
  {
   "cell_type": "code",
   "execution_count": 4,
   "id": "20811dc1",
   "metadata": {
    "slideshow": {
     "slide_type": "fragment"
    }
   },
   "outputs": [
    {
     "name": "stdout",
     "output_type": "stream",
     "text": [
      "Hello, World!\n"
     ]
    }
   ],
   "source": [
    "print(\"Hello, World!\")"
   ]
  },
  {
   "cell_type": "markdown",
   "id": "2fd25bcb",
   "metadata": {
    "slideshow": {
     "slide_type": "fragment"
    }
   },
   "source": [
    "<img src=\"https://tlgrm.eu/_/stickers/df1/326/df1326f5-cd9b-44c4-b65d-3dbc3953f7c5/2.jpg\" width=300px />"
   ]
  },
  {
   "cell_type": "markdown",
   "id": "529cdf2b",
   "metadata": {
    "slideshow": {
     "slide_type": "slide"
    }
   },
   "source": [
    "### Python ecosystem for Data Engineering & Science"
   ]
  },
  {
   "cell_type": "markdown",
   "id": "4342d55f",
   "metadata": {
    "slideshow": {
     "slide_type": "fragment"
    }
   },
   "source": [
    "<img src=\"images/python_data_landscape.png\" />"
   ]
  },
  {
   "cell_type": "markdown",
   "id": "024eb1b8",
   "metadata": {},
   "source": [
    "Need more ? check this : [Data Engineering ecosystem](https://github.com/zamzambadruzaman/big-data-engineering-indonesia)"
   ]
  },
  {
   "cell_type": "markdown",
   "id": "13ef6741",
   "metadata": {
    "slideshow": {
     "slide_type": "slide"
    }
   },
   "source": [
    "<img src=\"images/show_me_the_code.png\" height=100 />\n"
   ]
  },
  {
   "cell_type": "markdown",
   "id": "f792c580",
   "metadata": {
    "slideshow": {
     "slide_type": "fragment"
    }
   },
   "source": [
    "### Ok, let's jump in!"
   ]
  }
 ],
 "metadata": {
  "celltoolbar": "Slideshow",
  "kernelspec": {
   "display_name": "Python 3",
   "language": "python",
   "name": "python3"
  },
  "language_info": {
   "codemirror_mode": {
    "name": "ipython",
    "version": 3
   },
   "file_extension": ".py",
   "mimetype": "text/x-python",
   "name": "python",
   "nbconvert_exporter": "python",
   "pygments_lexer": "ipython3",
   "version": "3.9.5"
  }
 },
 "nbformat": 4,
 "nbformat_minor": 5
}
