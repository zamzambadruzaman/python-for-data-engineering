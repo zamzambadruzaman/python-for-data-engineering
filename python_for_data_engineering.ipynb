{
 "cells": [
  {
   "cell_type": "code",
   "execution_count": 16,
   "id": "3c488acb",
   "metadata": {
    "slideshow": {
     "slide_type": "skip"
    }
   },
   "outputs": [],
   "source": [
    "from IPython.display import Image\n",
    "    \n",
    "\n",
    "def whoami():\n",
    "    print(\"Zamzam Badruzaman\")\n",
    "    print(\"\"\"\n",
    "- Data Architect at Rakuten, Japan\n",
    "- ex-SOLUSI247, ex-Accenture\n",
    "- 10+ years in Data Engineering\n",
    "    \"\"\")\n",
    "def contact_me():\n",
    "    print(\"You can contact me on :\")\n",
    "    print(\"\"\"\n",
    "linkedin : https://www.linkedin.com/in/zamzambadruzaman\n",
    "telegram : t.me/azzambz\n",
    "ig       : @azzambz\n",
    "twitter  : @azzambz\n",
    "github   : @zamzambadruzaman\n",
    "Youtube  : Literasi Data\n",
    "\"\"\")\n",
    "\n",
    "def tell_me_what_is_data_engineering():\n",
    "    print(\"\"\"\n",
    "The key to understanding what data engineering lies in the “engineering” part. Engineers design and build things. \n",
    "“Data” engineers design and build pipelines that transform and transport data into a format wherein, by the time it reaches the Data scientist or other end users, it is in a highly usable state.\n",
    "\"\"\")\n"
   ]
  },
  {
   "cell_type": "markdown",
   "id": "66277ad4",
   "metadata": {
    "slideshow": {
     "slide_type": "slide"
    }
   },
   "source": [
    "<img src=\"https://etopian.com/wp-content/uploads/icon_python-300x300.png\" width=200/>\n",
    "\n",
    "# Python for Data Engineering\n",
    "idBigdata Meetup #30 x **Workshop**\n",
    "\n",
    "June 2021\n",
    "\n",
    "\n",
    "<table style=\"width:100%\">\n",
    "<tr>\n",
    "    <td><img src=\"https://idbigdata.com/official/wp-content/uploads/2014/12/logo_idBigData.png\" /></td>\n",
    "    <td><img src=\"http://kbi2019.idbigdata.com/wp-content/uploads/2019/10/lm-AIDI.png\" /></td>\n",
    "    <td><img src=\"http://kbi2019.idbigdata.com/wp-content/uploads/2019/09/ls-solusi247-kbi2019.png\" /></td>\n",
    "</tr>\n",
    "</table>\n",
    "\n",
    "\n",
    "\n",
    "\n"
   ]
  },
  {
   "cell_type": "markdown",
   "id": "b4bd5a4e",
   "metadata": {
    "slideshow": {
     "slide_type": "slide"
    }
   },
   "source": [
    "<img src=\"https://media-exp3.licdn.com/dms/image/C5103AQFDUyjZeS4KzQ/profile-displayphoto-shrink_200_200/0/1569520750263?e=1629936000&v=beta&t=s9jeomgWsbp6C39Fyu-a8zJiveHS5eK319wXSqJfFpE\" align='center' />"
   ]
  },
  {
   "cell_type": "markdown",
   "id": "4b7bdaf6",
   "metadata": {
    "slideshow": {
     "slide_type": "-"
    }
   },
   "source": [
    "### Hello, Data people!"
   ]
  },
  {
   "cell_type": "code",
   "execution_count": 17,
   "id": "5cac853c",
   "metadata": {
    "scrolled": true,
    "slideshow": {
     "slide_type": "fragment"
    }
   },
   "outputs": [
    {
     "name": "stdout",
     "output_type": "stream",
     "text": [
      "Zamzam Badruzaman\n",
      "\n",
      "- Data Architect at Rakuten, Japan\n",
      "- ex-SOLUSI247, ex-Accenture\n",
      "- 10+ years in Data Engineering\n",
      "    \n"
     ]
    }
   ],
   "source": [
    "whoami()"
   ]
  },
  {
   "cell_type": "code",
   "execution_count": 18,
   "id": "8b689220",
   "metadata": {
    "slideshow": {
     "slide_type": "fragment"
    }
   },
   "outputs": [
    {
     "name": "stdout",
     "output_type": "stream",
     "text": [
      "You can contact me on :\n",
      "\n",
      "linkedin : https://www.linkedin.com/in/zamzambadruzaman\n",
      "telegram : t.me/azzambz\n",
      "ig       : @azzambz\n",
      "twitter  : @azzambz\n",
      "github   : @zamzambadruzaman\n",
      "Youtube  : Literasi Data\n",
      "\n"
     ]
    }
   ],
   "source": [
    "contact_me()"
   ]
  },
  {
   "cell_type": "markdown",
   "id": "4f8e810e",
   "metadata": {
    "slideshow": {
     "slide_type": "slide"
    }
   },
   "source": [
    "## The Workshop will cover :\n",
    "- Intro to Python & Data Engineering\n",
    "- Sample Data pipeline development with python, this will include Pipeline creation, Data Validations & Job scheduling\n",
    "- Some best practices on Data engineering with Python\n",
    "\n",
    "## Won't cover\n",
    "- Advanced topic on Python & Data engineering\n",
    "- Digging deeper on any Data Engineering tools\n",
    "- Machine learning or any AI magic"
   ]
  },
  {
   "cell_type": "markdown",
   "id": "f85242f8",
   "metadata": {
    "slideshow": {
     "slide_type": "slide"
    }
   },
   "source": [
    "# So, what is \"Data Engineering\" ?"
   ]
  },
  {
   "cell_type": "markdown",
   "id": "cdd5c08b",
   "metadata": {
    "slideshow": {
     "slide_type": "fragment"
    }
   },
   "source": [
    "The key to understanding what data engineering lies in the “engineering” part. Engineers design and build things. \n",
    "“Data” engineers **design and build pipelines that transform and transport data into a format wherein, by the time it reaches the Data scientist or other end users, it is in a highly usable state**.\n",
    "\n",
    "Source : [Quanthub.com](https://quanthub.com/what-is-data-engineering/)"
   ]
  },
  {
   "cell_type": "markdown",
   "id": "bfcefc2f",
   "metadata": {
    "slideshow": {
     "slide_type": "slide"
    }
   },
   "source": [
    "## Data journey, in a traditional data architecture"
   ]
  },
  {
   "cell_type": "markdown",
   "id": "fa6d6b65",
   "metadata": {
    "slideshow": {
     "slide_type": "fragment"
    }
   },
   "source": [
    "<img src=\"images/traditional_data_arch.png\" />"
   ]
  },
  {
   "cell_type": "markdown",
   "id": "f8806600",
   "metadata": {
    "slideshow": {
     "slide_type": "slide"
    }
   },
   "source": [
    "## Data journey, in a modern data architecture"
   ]
  },
  {
   "cell_type": "markdown",
   "id": "0c240695",
   "metadata": {
    "slideshow": {
     "slide_type": "fragment"
    }
   },
   "source": [
    "<img src=\"images/modern_data_arch.png\" />"
   ]
  },
  {
   "cell_type": "markdown",
   "id": "369cb94e",
   "metadata": {
    "slideshow": {
     "slide_type": "slide"
    }
   },
   "source": [
    "# Why Python ?"
   ]
  },
  {
   "cell_type": "markdown",
   "id": "f42dbe37",
   "metadata": {
    "slideshow": {
     "slide_type": "fragment"
    }
   },
   "source": [
    "- Free & Easy\n",
    "- Dynamic (OOP, Functional)\n",
    "- Multi OS (Windows, Linux, MacOS)\n",
    "- Multi purpose (Web App, Desktop App, DevOps, Mobile App, Gaming, Data science, Robotics, Big Data Engineering etc)\n"
   ]
  },
  {
   "cell_type": "markdown",
   "id": "27e2faf3",
   "metadata": {
    "slideshow": {
     "slide_type": "fragment"
    }
   },
   "source": [
    "And yes, even i made this slides with Python.. 😊"
   ]
  },
  {
   "cell_type": "markdown",
   "id": "0e5caf50",
   "metadata": {
    "slideshow": {
     "slide_type": "slide"
    }
   },
   "source": [
    "## Seriously, Python is Easy!"
   ]
  },
  {
   "cell_type": "markdown",
   "id": "3013e19f",
   "metadata": {
    "slideshow": {
     "slide_type": "fragment"
    }
   },
   "source": [
    "#### Hello World, in some other languages.."
   ]
  },
  {
   "cell_type": "code",
   "execution_count": null,
   "id": "43dc4456",
   "metadata": {
    "slideshow": {
     "slide_type": "fragment"
    }
   },
   "outputs": [],
   "source": [
    "### C++ :\n",
    "\n",
    "#include <iostream>\n",
    "int main() {\n",
    "    std::cout << \"Hello, World!\";\n",
    "    return 0;\n",
    "}\n",
    "\n",
    "### Java :\n",
    "\n",
    "class HelloWorld {\n",
    "    public static void main(String[] args) {\n",
    "        System.out.println(\"Hello, World!\"); \n",
    "    }\n",
    "}"
   ]
  },
  {
   "cell_type": "markdown",
   "id": "bf899811",
   "metadata": {
    "slideshow": {
     "slide_type": "fragment"
    }
   },
   "source": [
    "<img src=\"https://tlgrm.eu/_/stickers/df1/326/df1326f5-cd9b-44c4-b65d-3dbc3953f7c5/12.jpg\" width=300px />"
   ]
  },
  {
   "cell_type": "markdown",
   "id": "200ae41a",
   "metadata": {
    "slideshow": {
     "slide_type": "slide"
    }
   },
   "source": [
    "### Hello World, in Python"
   ]
  },
  {
   "cell_type": "code",
   "execution_count": 19,
   "id": "20811dc1",
   "metadata": {
    "slideshow": {
     "slide_type": "fragment"
    }
   },
   "outputs": [
    {
     "name": "stdout",
     "output_type": "stream",
     "text": [
      "Hello, World!\n"
     ]
    }
   ],
   "source": [
    "print(\"Hello, World!\")"
   ]
  },
  {
   "cell_type": "markdown",
   "id": "2fd25bcb",
   "metadata": {
    "slideshow": {
     "slide_type": "fragment"
    }
   },
   "source": [
    "<img src=\"https://tlgrm.eu/_/stickers/df1/326/df1326f5-cd9b-44c4-b65d-3dbc3953f7c5/2.jpg\" width=300px />"
   ]
  },
  {
   "cell_type": "markdown",
   "id": "529cdf2b",
   "metadata": {
    "slideshow": {
     "slide_type": "slide"
    }
   },
   "source": [
    "### Python ecosystem for Data Engineering & Science"
   ]
  },
  {
   "cell_type": "markdown",
   "id": "4342d55f",
   "metadata": {
    "slideshow": {
     "slide_type": "fragment"
    }
   },
   "source": [
    "<img src=\"images/python_data_landscape.png\" />"
   ]
  },
  {
   "cell_type": "markdown",
   "id": "024eb1b8",
   "metadata": {},
   "source": [
    "Need more ? check this : [Data Engineering ecosystem](https://github.com/zamzambadruzaman/big-data-engineering-indonesia)"
   ]
  },
  {
   "cell_type": "markdown",
   "id": "13ef6741",
   "metadata": {
    "slideshow": {
     "slide_type": "slide"
    }
   },
   "source": [
    "<img src=\"images/show_me_the_code.png\" height=100 />\n"
   ]
  },
  {
   "cell_type": "markdown",
   "id": "f792c580",
   "metadata": {
    "slideshow": {
     "slide_type": "fragment"
    }
   },
   "source": [
    "### Ok, let's jump in!"
   ]
  },
  {
   "cell_type": "markdown",
   "id": "96fd99c4",
   "metadata": {
    "slideshow": {
     "slide_type": "slide"
    }
   },
   "source": [
    "## Use case\n",
    "\n",
    "- Extract data from csv\n",
    "- Aggregate Daily Cases by Province\n",
    "- Set Zone for each province (Green, Yellow, Orange, Red)\n",
    "- Build a data quality check before and after tranformation\n",
    "- Load the the validated output data to MySQL Database\n",
    "- Run the pipeline daily at 3am"
   ]
  },
  {
   "cell_type": "code",
   "execution_count": 22,
   "id": "9a56a7eb",
   "metadata": {
    "scrolled": true,
    "slideshow": {
     "slide_type": "slide"
    }
   },
   "outputs": [
    {
     "data": {
      "text/html": [
       "<div>\n",
       "<style scoped>\n",
       "    .dataframe tbody tr th:only-of-type {\n",
       "        vertical-align: middle;\n",
       "    }\n",
       "\n",
       "    .dataframe tbody tr th {\n",
       "        vertical-align: top;\n",
       "    }\n",
       "\n",
       "    .dataframe thead th {\n",
       "        text-align: right;\n",
       "    }\n",
       "</style>\n",
       "<table border=\"1\" class=\"dataframe\">\n",
       "  <thead>\n",
       "    <tr style=\"text-align: right;\">\n",
       "      <th></th>\n",
       "      <th>Date</th>\n",
       "      <th>Province</th>\n",
       "      <th>Daily_Case</th>\n",
       "      <th>Daily_Death</th>\n",
       "      <th>Daily_Recovered</th>\n",
       "      <th>Active_Case</th>\n",
       "      <th>Cumulative_Case</th>\n",
       "      <th>Cumulative_Recovered</th>\n",
       "      <th>Cumulative_Death</th>\n",
       "      <th>Cumulative_Active_Case</th>\n",
       "    </tr>\n",
       "  </thead>\n",
       "  <tbody>\n",
       "    <tr>\n",
       "      <th>0</th>\n",
       "      <td>01/03/2020</td>\n",
       "      <td>DKI JAKARTA</td>\n",
       "      <td>2</td>\n",
       "      <td>0</td>\n",
       "      <td>0</td>\n",
       "      <td>2</td>\n",
       "      <td>2</td>\n",
       "      <td>0</td>\n",
       "      <td>0</td>\n",
       "      <td>2</td>\n",
       "    </tr>\n",
       "    <tr>\n",
       "      <th>1</th>\n",
       "      <td>02/03/2020</td>\n",
       "      <td>DKI JAKARTA</td>\n",
       "      <td>2</td>\n",
       "      <td>0</td>\n",
       "      <td>0</td>\n",
       "      <td>2</td>\n",
       "      <td>4</td>\n",
       "      <td>0</td>\n",
       "      <td>0</td>\n",
       "      <td>4</td>\n",
       "    </tr>\n",
       "    <tr>\n",
       "      <th>2</th>\n",
       "      <td>03/03/2020</td>\n",
       "      <td>DKI JAKARTA</td>\n",
       "      <td>2</td>\n",
       "      <td>0</td>\n",
       "      <td>0</td>\n",
       "      <td>2</td>\n",
       "      <td>6</td>\n",
       "      <td>0</td>\n",
       "      <td>0</td>\n",
       "      <td>6</td>\n",
       "    </tr>\n",
       "    <tr>\n",
       "      <th>3</th>\n",
       "      <td>04/03/2020</td>\n",
       "      <td>DKI JAKARTA</td>\n",
       "      <td>2</td>\n",
       "      <td>0</td>\n",
       "      <td>0</td>\n",
       "      <td>2</td>\n",
       "      <td>8</td>\n",
       "      <td>0</td>\n",
       "      <td>0</td>\n",
       "      <td>8</td>\n",
       "    </tr>\n",
       "    <tr>\n",
       "      <th>4</th>\n",
       "      <td>05/03/2020</td>\n",
       "      <td>DKI JAKARTA</td>\n",
       "      <td>0</td>\n",
       "      <td>1</td>\n",
       "      <td>0</td>\n",
       "      <td>-1</td>\n",
       "      <td>8</td>\n",
       "      <td>0</td>\n",
       "      <td>1</td>\n",
       "      <td>7</td>\n",
       "    </tr>\n",
       "    <tr>\n",
       "      <th>...</th>\n",
       "      <td>...</td>\n",
       "      <td>...</td>\n",
       "      <td>...</td>\n",
       "      <td>...</td>\n",
       "      <td>...</td>\n",
       "      <td>...</td>\n",
       "      <td>...</td>\n",
       "      <td>...</td>\n",
       "      <td>...</td>\n",
       "      <td>...</td>\n",
       "    </tr>\n",
       "    <tr>\n",
       "      <th>15351</th>\n",
       "      <td>09/06/2021</td>\n",
       "      <td>NUSA TENGGARA TIMUR</td>\n",
       "      <td>26</td>\n",
       "      <td>1</td>\n",
       "      <td>24</td>\n",
       "      <td>1</td>\n",
       "      <td>16981</td>\n",
       "      <td>15865</td>\n",
       "      <td>439</td>\n",
       "      <td>677</td>\n",
       "    </tr>\n",
       "    <tr>\n",
       "      <th>15352</th>\n",
       "      <td>10/06/2021</td>\n",
       "      <td>NUSA TENGGARA TIMUR</td>\n",
       "      <td>63</td>\n",
       "      <td>2</td>\n",
       "      <td>13</td>\n",
       "      <td>48</td>\n",
       "      <td>17044</td>\n",
       "      <td>15878</td>\n",
       "      <td>441</td>\n",
       "      <td>725</td>\n",
       "    </tr>\n",
       "    <tr>\n",
       "      <th>15353</th>\n",
       "      <td>11/06/2021</td>\n",
       "      <td>NUSA TENGGARA TIMUR</td>\n",
       "      <td>10</td>\n",
       "      <td>1</td>\n",
       "      <td>7</td>\n",
       "      <td>2</td>\n",
       "      <td>17054</td>\n",
       "      <td>15885</td>\n",
       "      <td>442</td>\n",
       "      <td>727</td>\n",
       "    </tr>\n",
       "    <tr>\n",
       "      <th>15354</th>\n",
       "      <td>12/06/2021</td>\n",
       "      <td>NUSA TENGGARA TIMUR</td>\n",
       "      <td>50</td>\n",
       "      <td>3</td>\n",
       "      <td>43</td>\n",
       "      <td>4</td>\n",
       "      <td>17104</td>\n",
       "      <td>15928</td>\n",
       "      <td>445</td>\n",
       "      <td>731</td>\n",
       "    </tr>\n",
       "    <tr>\n",
       "      <th>15355</th>\n",
       "      <td>13/06/2021</td>\n",
       "      <td>NUSA TENGGARA TIMUR</td>\n",
       "      <td>60</td>\n",
       "      <td>2</td>\n",
       "      <td>74</td>\n",
       "      <td>-16</td>\n",
       "      <td>17164</td>\n",
       "      <td>16002</td>\n",
       "      <td>447</td>\n",
       "      <td>715</td>\n",
       "    </tr>\n",
       "  </tbody>\n",
       "</table>\n",
       "<p>15356 rows × 10 columns</p>\n",
       "</div>"
      ],
      "text/plain": [
       "             Date             Province  Daily_Case  Daily_Death  \\\n",
       "0      01/03/2020          DKI JAKARTA           2            0   \n",
       "1      02/03/2020          DKI JAKARTA           2            0   \n",
       "2      03/03/2020          DKI JAKARTA           2            0   \n",
       "3      04/03/2020          DKI JAKARTA           2            0   \n",
       "4      05/03/2020          DKI JAKARTA           0            1   \n",
       "...           ...                  ...         ...          ...   \n",
       "15351  09/06/2021  NUSA TENGGARA TIMUR          26            1   \n",
       "15352  10/06/2021  NUSA TENGGARA TIMUR          63            2   \n",
       "15353  11/06/2021  NUSA TENGGARA TIMUR          10            1   \n",
       "15354  12/06/2021  NUSA TENGGARA TIMUR          50            3   \n",
       "15355  13/06/2021  NUSA TENGGARA TIMUR          60            2   \n",
       "\n",
       "       Daily_Recovered  Active_Case  Cumulative_Case  Cumulative_Recovered  \\\n",
       "0                    0            2                2                     0   \n",
       "1                    0            2                4                     0   \n",
       "2                    0            2                6                     0   \n",
       "3                    0            2                8                     0   \n",
       "4                    0           -1                8                     0   \n",
       "...                ...          ...              ...                   ...   \n",
       "15351               24            1            16981                 15865   \n",
       "15352               13           48            17044                 15878   \n",
       "15353                7            2            17054                 15885   \n",
       "15354               43            4            17104                 15928   \n",
       "15355               74          -16            17164                 16002   \n",
       "\n",
       "       Cumulative_Death  Cumulative_Active_Case  \n",
       "0                     0                       2  \n",
       "1                     0                       4  \n",
       "2                     0                       6  \n",
       "3                     0                       8  \n",
       "4                     1                       7  \n",
       "...                 ...                     ...  \n",
       "15351               439                     677  \n",
       "15352               441                     725  \n",
       "15353               442                     727  \n",
       "15354               445                     731  \n",
       "15355               447                     715  \n",
       "\n",
       "[15356 rows x 10 columns]"
      ]
     },
     "execution_count": 22,
     "metadata": {},
     "output_type": "execute_result"
    }
   ],
   "source": [
    "import pandas as pd\n",
    "\n",
    "df = pd.read_csv(\"data/Indonesia_coronavirus_daily_data.csv\")\n",
    "df"
   ]
  },
  {
   "cell_type": "code",
   "execution_count": 26,
   "id": "72d1f292",
   "metadata": {
    "slideshow": {
     "slide_type": "slide"
    }
   },
   "outputs": [
    {
     "data": {
      "application/vnd.plotly.v1+json": {
       "config": {
        "plotlyServerURL": "https://plot.ly"
       },
       "data": [
        {
         "hovertemplate": "<b>%{hovertext}</b><br><br>Date=%{x}<br>Daily_Case=%{marker.size}<br>Daily_Death=%{marker.color}<extra></extra>",
         "hovertext": [
          "1167",
          "1232",
          "1079",
          "1100",
          "1470",
          "1416",
          "1823",
          "1731",
          "1467",
          "1475",
          "1540",
          "1755",
          "2202",
          "3095",
          "3460",
          "1491",
          "1486",
          "1684",
          "1814",
          "1228",
          "2441",
          "1809",
          "2328",
          "2022",
          "3925",
          "3198",
          "4534",
          "3834",
          "4601",
          "2848",
          "2969",
          "2068",
          "2241",
          "2020",
          "2117",
          "3971",
          "1987",
          "1498",
          "776",
          "661",
          "1060",
          "683",
          "1736",
          "881",
          "947",
          "4032",
          "4333",
          "4210",
          "3846",
          "974",
          "1021",
          "3812",
          "4334",
          "2192",
          "2544",
          "2314",
          "876",
          "771",
          "1662",
          "1654",
          "1895",
          "1731",
          "1785",
          "1094",
          "1365",
          "1739",
          "1787",
          "1570",
          "781",
          "1357",
          "925",
          "1133",
          "1334",
          "1617",
          "1347",
          "1261",
          "1361",
          "822",
          "517",
          "1253",
          "1216",
          "1329",
          "1172",
          "855",
          "476",
          "534",
          "1610",
          "911",
          "975",
          "904",
          "661",
          "360",
          "338",
          "910",
          "963",
          "811",
          "673",
          "931",
          "997",
          "747",
          "1470",
          "1456",
          "1568",
          "1216",
          "998",
          "832",
          "769",
          "1422",
          "1399",
          "1004",
          "1358",
          "1066",
          "630",
          "683",
          "1941",
          "1164",
          "1354",
          "1119",
          "1179",
          "754",
          "672",
          "1292",
          "912",
          "995",
          "1038",
          "1953",
          "2209",
          "492",
          "1070",
          "1373",
          "814",
          "400",
          "610",
          "723",
          "792",
          "1361",
          "1119",
          "1219",
          "1332",
          "1085",
          "997",
          "970",
          "1420",
          "1024",
          "660",
          "1370",
          "1206",
          "927",
          "640",
          "1316",
          "892",
          "930",
          "1176",
          "952",
          "993",
          "870",
          "1790",
          "1073",
          "1562",
          "1334",
          "1302",
          "876",
          "1242"
         ],
         "legendgroup": "",
         "marker": {
          "color": [
           1,
           2,
           2,
           8,
           11,
           2,
           4,
           6,
           8,
           11,
           15,
           11,
           11,
           27,
           42,
           11,
           28,
           24,
           13,
           73,
           8,
           16,
           8,
           2,
           13,
           105,
           163,
           5,
           28,
           62,
           5,
           78,
           10,
           17,
           28,
           4,
           2,
           12,
           17,
           16,
           18,
           5,
           2,
           6,
           5,
           14,
           3,
           9,
           25,
           5,
           4,
           16,
           23,
           7,
           73,
           7,
           5,
           51,
           4,
           49,
           49,
           45,
           7,
           1,
           2,
           72,
           50,
           24,
           6,
           43,
           2,
           6,
           20,
           35,
           36,
           44,
           34,
           7,
           21,
           48,
           41,
           7,
           12,
           1,
           102,
           7,
           6,
           8,
           6,
           75,
           5,
           5,
           4,
           5,
           69,
           2,
           13,
           22,
           7,
           5,
           25,
           23,
           17,
           42,
           5,
           9,
           9,
           8,
           15,
           44,
           28,
           23,
           23,
           7,
           16,
           17,
           14,
           25,
           29,
           5,
           7,
           16,
           24,
           25,
           6,
           35,
           4,
           8,
           16,
           18,
           22,
           10,
           2,
           9,
           6,
           26,
           39,
           8,
           14,
           16,
           15,
           6,
           19,
           13,
           10,
           15,
           18,
           7,
           10,
           24,
           10,
           22,
           26,
           24,
           16,
           15,
           22,
           26,
           10,
           19,
           14,
           12,
           9
          ],
          "coloraxis": "coloraxis",
          "size": [
           1167,
           1232,
           1079,
           1100,
           1470,
           1416,
           1823,
           1731,
           1467,
           1475,
           1540,
           1755,
           2202,
           3095,
           3460,
           1491,
           1486,
           1684,
           1814,
           1228,
           2441,
           1809,
           2328,
           2022,
           3925,
           3198,
           4534,
           3834,
           4601,
           2848,
           2969,
           2068,
           2241,
           2020,
           2117,
           3971,
           1987,
           1498,
           776,
           661,
           1060,
           683,
           1736,
           881,
           947,
           4032,
           4333,
           4210,
           3846,
           974,
           1021,
           3812,
           4334,
           2192,
           2544,
           2314,
           876,
           771,
           1662,
           1654,
           1895,
           1731,
           1785,
           1094,
           1365,
           1739,
           1787,
           1570,
           781,
           1357,
           925,
           1133,
           1334,
           1617,
           1347,
           1261,
           1361,
           822,
           517,
           1253,
           1216,
           1329,
           1172,
           855,
           476,
           534,
           1610,
           911,
           975,
           904,
           661,
           360,
           338,
           910,
           963,
           811,
           673,
           931,
           997,
           747,
           1470,
           1456,
           1568,
           1216,
           998,
           832,
           769,
           1422,
           1399,
           1004,
           1358,
           1066,
           630,
           683,
           1941,
           1164,
           1354,
           1119,
           1179,
           754,
           672,
           1292,
           912,
           995,
           1038,
           1953,
           2209,
           492,
           1070,
           1373,
           814,
           400,
           610,
           723,
           792,
           1361,
           1119,
           1219,
           1332,
           1085,
           997,
           970,
           1420,
           1024,
           660,
           1370,
           1206,
           927,
           640,
           1316,
           892,
           930,
           1176,
           952,
           993,
           870,
           1790,
           1073,
           1562,
           1334,
           1302,
           876,
           1242
          ],
          "sizemode": "area",
          "sizeref": 7.3616,
          "symbol": "circle"
         },
         "mode": "markers",
         "name": "",
         "orientation": "v",
         "showlegend": false,
         "type": "scatter",
         "x": [
          "2021-01-02T00:00:00",
          "2021-01-03T00:00:00",
          "2021-01-04T00:00:00",
          "2021-01-05T00:00:00",
          "2021-01-06T00:00:00",
          "2021-01-07T00:00:00",
          "2021-01-08T00:00:00",
          "2021-01-09T00:00:00",
          "2021-01-10T00:00:00",
          "2021-01-11T00:00:00",
          "2021-01-12T00:00:00",
          "2021-01-13T00:00:00",
          "2021-01-14T00:00:00",
          "2021-01-15T00:00:00",
          "2021-01-16T00:00:00",
          "2021-01-17T00:00:00",
          "2021-01-18T00:00:00",
          "2021-01-19T00:00:00",
          "2021-01-20T00:00:00",
          "2021-01-21T00:00:00",
          "2021-01-22T00:00:00",
          "2021-01-23T00:00:00",
          "2021-01-24T00:00:00",
          "2021-01-25T00:00:00",
          "2021-01-26T00:00:00",
          "2021-01-27T00:00:00",
          "2021-01-28T00:00:00",
          "2021-01-29T00:00:00",
          "2021-01-30T00:00:00",
          "2021-01-31T00:00:00",
          "2021-02-01T00:00:00",
          "2021-02-02T00:00:00",
          "2021-02-03T00:00:00",
          "2021-02-04T00:00:00",
          "2021-02-05T00:00:00",
          "2021-02-06T00:00:00",
          "2021-02-07T00:00:00",
          "2021-02-08T00:00:00",
          "2021-02-09T00:00:00",
          "2021-02-10T00:00:00",
          "2021-02-11T00:00:00",
          "2021-02-12T00:00:00",
          "2021-02-13T00:00:00",
          "2021-02-14T00:00:00",
          "2021-02-15T00:00:00",
          "2021-02-16T00:00:00",
          "2021-02-17T00:00:00",
          "2021-02-18T00:00:00",
          "2021-02-19T00:00:00",
          "2021-02-20T00:00:00",
          "2021-02-21T00:00:00",
          "2021-02-22T00:00:00",
          "2021-02-23T00:00:00",
          "2021-02-24T00:00:00",
          "2021-02-25T00:00:00",
          "2021-02-26T00:00:00",
          "2021-02-27T00:00:00",
          "2021-02-28T00:00:00",
          "2021-03-01T00:00:00",
          "2021-03-02T00:00:00",
          "2021-03-03T00:00:00",
          "2021-03-04T00:00:00",
          "2021-03-05T00:00:00",
          "2021-03-06T00:00:00",
          "2021-03-07T00:00:00",
          "2021-03-08T00:00:00",
          "2021-03-09T00:00:00",
          "2021-03-10T00:00:00",
          "2021-03-11T00:00:00",
          "2021-03-12T00:00:00",
          "2021-03-13T00:00:00",
          "2021-03-14T00:00:00",
          "2021-03-15T00:00:00",
          "2021-03-16T00:00:00",
          "2021-03-17T00:00:00",
          "2021-03-18T00:00:00",
          "2021-03-19T00:00:00",
          "2021-03-20T00:00:00",
          "2021-03-21T00:00:00",
          "2021-03-22T00:00:00",
          "2021-03-23T00:00:00",
          "2021-03-24T00:00:00",
          "2021-03-25T00:00:00",
          "2021-03-26T00:00:00",
          "2021-03-27T00:00:00",
          "2021-03-28T00:00:00",
          "2021-03-29T00:00:00",
          "2021-03-30T00:00:00",
          "2021-03-31T00:00:00",
          "2021-04-01T00:00:00",
          "2021-04-02T00:00:00",
          "2021-04-03T00:00:00",
          "2021-04-04T00:00:00",
          "2021-04-05T00:00:00",
          "2021-04-06T00:00:00",
          "2021-04-07T00:00:00",
          "2021-04-08T00:00:00",
          "2021-04-09T00:00:00",
          "2021-04-10T00:00:00",
          "2021-04-11T00:00:00",
          "2021-04-12T00:00:00",
          "2021-04-13T00:00:00",
          "2021-04-14T00:00:00",
          "2021-04-15T00:00:00",
          "2021-04-16T00:00:00",
          "2021-04-17T00:00:00",
          "2021-04-18T00:00:00",
          "2021-04-19T00:00:00",
          "2021-04-20T00:00:00",
          "2021-04-21T00:00:00",
          "2021-04-22T00:00:00",
          "2021-04-23T00:00:00",
          "2021-04-24T00:00:00",
          "2021-04-25T00:00:00",
          "2021-04-26T00:00:00",
          "2021-04-27T00:00:00",
          "2021-04-28T00:00:00",
          "2021-04-29T00:00:00",
          "2021-04-30T00:00:00",
          "2021-05-01T00:00:00",
          "2021-05-02T00:00:00",
          "2021-05-03T00:00:00",
          "2021-05-04T00:00:00",
          "2021-05-05T00:00:00",
          "2021-05-06T00:00:00",
          "2021-05-07T00:00:00",
          "2021-05-08T00:00:00",
          "2021-05-09T00:00:00",
          "2021-05-10T00:00:00",
          "2021-05-11T00:00:00",
          "2021-05-12T00:00:00",
          "2021-05-13T00:00:00",
          "2021-05-14T00:00:00",
          "2021-05-15T00:00:00",
          "2021-05-16T00:00:00",
          "2021-05-17T00:00:00",
          "2021-05-18T00:00:00",
          "2021-05-19T00:00:00",
          "2021-05-20T00:00:00",
          "2021-05-21T00:00:00",
          "2021-05-22T00:00:00",
          "2021-05-23T00:00:00",
          "2021-05-24T00:00:00",
          "2021-05-25T00:00:00",
          "2021-05-26T00:00:00",
          "2021-05-27T00:00:00",
          "2021-05-28T00:00:00",
          "2021-05-29T00:00:00",
          "2021-05-30T00:00:00",
          "2021-05-31T00:00:00",
          "2021-06-01T00:00:00",
          "2021-06-02T00:00:00",
          "2021-06-03T00:00:00",
          "2021-06-04T00:00:00",
          "2021-06-05T00:00:00",
          "2021-06-06T00:00:00",
          "2021-06-07T00:00:00",
          "2021-06-08T00:00:00",
          "2021-06-09T00:00:00",
          "2021-06-10T00:00:00",
          "2021-06-11T00:00:00",
          "2021-06-12T00:00:00",
          "2021-06-13T00:00:00"
         ],
         "xaxis": "x",
         "y": [
          1167,
          1232,
          1079,
          1100,
          1470,
          1416,
          1823,
          1731,
          1467,
          1475,
          1540,
          1755,
          2202,
          3095,
          3460,
          1491,
          1486,
          1684,
          1814,
          1228,
          2441,
          1809,
          2328,
          2022,
          3925,
          3198,
          4534,
          3834,
          4601,
          2848,
          2969,
          2068,
          2241,
          2020,
          2117,
          3971,
          1987,
          1498,
          776,
          661,
          1060,
          683,
          1736,
          881,
          947,
          4032,
          4333,
          4210,
          3846,
          974,
          1021,
          3812,
          4334,
          2192,
          2544,
          2314,
          876,
          771,
          1662,
          1654,
          1895,
          1731,
          1785,
          1094,
          1365,
          1739,
          1787,
          1570,
          781,
          1357,
          925,
          1133,
          1334,
          1617,
          1347,
          1261,
          1361,
          822,
          517,
          1253,
          1216,
          1329,
          1172,
          855,
          476,
          534,
          1610,
          911,
          975,
          904,
          661,
          360,
          338,
          910,
          963,
          811,
          673,
          931,
          997,
          747,
          1470,
          1456,
          1568,
          1216,
          998,
          832,
          769,
          1422,
          1399,
          1004,
          1358,
          1066,
          630,
          683,
          1941,
          1164,
          1354,
          1119,
          1179,
          754,
          672,
          1292,
          912,
          995,
          1038,
          1953,
          2209,
          492,
          1070,
          1373,
          814,
          400,
          610,
          723,
          792,
          1361,
          1119,
          1219,
          1332,
          1085,
          997,
          970,
          1420,
          1024,
          660,
          1370,
          1206,
          927,
          640,
          1316,
          892,
          930,
          1176,
          952,
          993,
          870,
          1790,
          1073,
          1562,
          1334,
          1302,
          876,
          1242
         ],
         "yaxis": "y"
        }
       ],
       "layout": {
        "coloraxis": {
         "colorbar": {
          "title": {
           "text": "Daily_Death"
          }
         },
         "colorscale": [
          [
           0,
           "#0d0887"
          ],
          [
           0.1111111111111111,
           "#46039f"
          ],
          [
           0.2222222222222222,
           "#7201a8"
          ],
          [
           0.3333333333333333,
           "#9c179e"
          ],
          [
           0.4444444444444444,
           "#bd3786"
          ],
          [
           0.5555555555555556,
           "#d8576b"
          ],
          [
           0.6666666666666666,
           "#ed7953"
          ],
          [
           0.7777777777777778,
           "#fb9f3a"
          ],
          [
           0.8888888888888888,
           "#fdca26"
          ],
          [
           1,
           "#f0f921"
          ]
         ]
        },
        "legend": {
         "itemsizing": "constant",
         "tracegroupgap": 0
        },
        "template": {
         "data": {
          "bar": [
           {
            "error_x": {
             "color": "#2a3f5f"
            },
            "error_y": {
             "color": "#2a3f5f"
            },
            "marker": {
             "line": {
              "color": "#E5ECF6",
              "width": 0.5
             },
             "pattern": {
              "fillmode": "overlay",
              "size": 10,
              "solidity": 0.2
             }
            },
            "type": "bar"
           }
          ],
          "barpolar": [
           {
            "marker": {
             "line": {
              "color": "#E5ECF6",
              "width": 0.5
             },
             "pattern": {
              "fillmode": "overlay",
              "size": 10,
              "solidity": 0.2
             }
            },
            "type": "barpolar"
           }
          ],
          "carpet": [
           {
            "aaxis": {
             "endlinecolor": "#2a3f5f",
             "gridcolor": "white",
             "linecolor": "white",
             "minorgridcolor": "white",
             "startlinecolor": "#2a3f5f"
            },
            "baxis": {
             "endlinecolor": "#2a3f5f",
             "gridcolor": "white",
             "linecolor": "white",
             "minorgridcolor": "white",
             "startlinecolor": "#2a3f5f"
            },
            "type": "carpet"
           }
          ],
          "choropleth": [
           {
            "colorbar": {
             "outlinewidth": 0,
             "ticks": ""
            },
            "type": "choropleth"
           }
          ],
          "contour": [
           {
            "colorbar": {
             "outlinewidth": 0,
             "ticks": ""
            },
            "colorscale": [
             [
              0,
              "#0d0887"
             ],
             [
              0.1111111111111111,
              "#46039f"
             ],
             [
              0.2222222222222222,
              "#7201a8"
             ],
             [
              0.3333333333333333,
              "#9c179e"
             ],
             [
              0.4444444444444444,
              "#bd3786"
             ],
             [
              0.5555555555555556,
              "#d8576b"
             ],
             [
              0.6666666666666666,
              "#ed7953"
             ],
             [
              0.7777777777777778,
              "#fb9f3a"
             ],
             [
              0.8888888888888888,
              "#fdca26"
             ],
             [
              1,
              "#f0f921"
             ]
            ],
            "type": "contour"
           }
          ],
          "contourcarpet": [
           {
            "colorbar": {
             "outlinewidth": 0,
             "ticks": ""
            },
            "type": "contourcarpet"
           }
          ],
          "heatmap": [
           {
            "colorbar": {
             "outlinewidth": 0,
             "ticks": ""
            },
            "colorscale": [
             [
              0,
              "#0d0887"
             ],
             [
              0.1111111111111111,
              "#46039f"
             ],
             [
              0.2222222222222222,
              "#7201a8"
             ],
             [
              0.3333333333333333,
              "#9c179e"
             ],
             [
              0.4444444444444444,
              "#bd3786"
             ],
             [
              0.5555555555555556,
              "#d8576b"
             ],
             [
              0.6666666666666666,
              "#ed7953"
             ],
             [
              0.7777777777777778,
              "#fb9f3a"
             ],
             [
              0.8888888888888888,
              "#fdca26"
             ],
             [
              1,
              "#f0f921"
             ]
            ],
            "type": "heatmap"
           }
          ],
          "heatmapgl": [
           {
            "colorbar": {
             "outlinewidth": 0,
             "ticks": ""
            },
            "colorscale": [
             [
              0,
              "#0d0887"
             ],
             [
              0.1111111111111111,
              "#46039f"
             ],
             [
              0.2222222222222222,
              "#7201a8"
             ],
             [
              0.3333333333333333,
              "#9c179e"
             ],
             [
              0.4444444444444444,
              "#bd3786"
             ],
             [
              0.5555555555555556,
              "#d8576b"
             ],
             [
              0.6666666666666666,
              "#ed7953"
             ],
             [
              0.7777777777777778,
              "#fb9f3a"
             ],
             [
              0.8888888888888888,
              "#fdca26"
             ],
             [
              1,
              "#f0f921"
             ]
            ],
            "type": "heatmapgl"
           }
          ],
          "histogram": [
           {
            "marker": {
             "pattern": {
              "fillmode": "overlay",
              "size": 10,
              "solidity": 0.2
             }
            },
            "type": "histogram"
           }
          ],
          "histogram2d": [
           {
            "colorbar": {
             "outlinewidth": 0,
             "ticks": ""
            },
            "colorscale": [
             [
              0,
              "#0d0887"
             ],
             [
              0.1111111111111111,
              "#46039f"
             ],
             [
              0.2222222222222222,
              "#7201a8"
             ],
             [
              0.3333333333333333,
              "#9c179e"
             ],
             [
              0.4444444444444444,
              "#bd3786"
             ],
             [
              0.5555555555555556,
              "#d8576b"
             ],
             [
              0.6666666666666666,
              "#ed7953"
             ],
             [
              0.7777777777777778,
              "#fb9f3a"
             ],
             [
              0.8888888888888888,
              "#fdca26"
             ],
             [
              1,
              "#f0f921"
             ]
            ],
            "type": "histogram2d"
           }
          ],
          "histogram2dcontour": [
           {
            "colorbar": {
             "outlinewidth": 0,
             "ticks": ""
            },
            "colorscale": [
             [
              0,
              "#0d0887"
             ],
             [
              0.1111111111111111,
              "#46039f"
             ],
             [
              0.2222222222222222,
              "#7201a8"
             ],
             [
              0.3333333333333333,
              "#9c179e"
             ],
             [
              0.4444444444444444,
              "#bd3786"
             ],
             [
              0.5555555555555556,
              "#d8576b"
             ],
             [
              0.6666666666666666,
              "#ed7953"
             ],
             [
              0.7777777777777778,
              "#fb9f3a"
             ],
             [
              0.8888888888888888,
              "#fdca26"
             ],
             [
              1,
              "#f0f921"
             ]
            ],
            "type": "histogram2dcontour"
           }
          ],
          "mesh3d": [
           {
            "colorbar": {
             "outlinewidth": 0,
             "ticks": ""
            },
            "type": "mesh3d"
           }
          ],
          "parcoords": [
           {
            "line": {
             "colorbar": {
              "outlinewidth": 0,
              "ticks": ""
             }
            },
            "type": "parcoords"
           }
          ],
          "pie": [
           {
            "automargin": true,
            "type": "pie"
           }
          ],
          "scatter": [
           {
            "marker": {
             "colorbar": {
              "outlinewidth": 0,
              "ticks": ""
             }
            },
            "type": "scatter"
           }
          ],
          "scatter3d": [
           {
            "line": {
             "colorbar": {
              "outlinewidth": 0,
              "ticks": ""
             }
            },
            "marker": {
             "colorbar": {
              "outlinewidth": 0,
              "ticks": ""
             }
            },
            "type": "scatter3d"
           }
          ],
          "scattercarpet": [
           {
            "marker": {
             "colorbar": {
              "outlinewidth": 0,
              "ticks": ""
             }
            },
            "type": "scattercarpet"
           }
          ],
          "scattergeo": [
           {
            "marker": {
             "colorbar": {
              "outlinewidth": 0,
              "ticks": ""
             }
            },
            "type": "scattergeo"
           }
          ],
          "scattergl": [
           {
            "marker": {
             "colorbar": {
              "outlinewidth": 0,
              "ticks": ""
             }
            },
            "type": "scattergl"
           }
          ],
          "scattermapbox": [
           {
            "marker": {
             "colorbar": {
              "outlinewidth": 0,
              "ticks": ""
             }
            },
            "type": "scattermapbox"
           }
          ],
          "scatterpolar": [
           {
            "marker": {
             "colorbar": {
              "outlinewidth": 0,
              "ticks": ""
             }
            },
            "type": "scatterpolar"
           }
          ],
          "scatterpolargl": [
           {
            "marker": {
             "colorbar": {
              "outlinewidth": 0,
              "ticks": ""
             }
            },
            "type": "scatterpolargl"
           }
          ],
          "scatterternary": [
           {
            "marker": {
             "colorbar": {
              "outlinewidth": 0,
              "ticks": ""
             }
            },
            "type": "scatterternary"
           }
          ],
          "surface": [
           {
            "colorbar": {
             "outlinewidth": 0,
             "ticks": ""
            },
            "colorscale": [
             [
              0,
              "#0d0887"
             ],
             [
              0.1111111111111111,
              "#46039f"
             ],
             [
              0.2222222222222222,
              "#7201a8"
             ],
             [
              0.3333333333333333,
              "#9c179e"
             ],
             [
              0.4444444444444444,
              "#bd3786"
             ],
             [
              0.5555555555555556,
              "#d8576b"
             ],
             [
              0.6666666666666666,
              "#ed7953"
             ],
             [
              0.7777777777777778,
              "#fb9f3a"
             ],
             [
              0.8888888888888888,
              "#fdca26"
             ],
             [
              1,
              "#f0f921"
             ]
            ],
            "type": "surface"
           }
          ],
          "table": [
           {
            "cells": {
             "fill": {
              "color": "#EBF0F8"
             },
             "line": {
              "color": "white"
             }
            },
            "header": {
             "fill": {
              "color": "#C8D4E3"
             },
             "line": {
              "color": "white"
             }
            },
            "type": "table"
           }
          ]
         },
         "layout": {
          "annotationdefaults": {
           "arrowcolor": "#2a3f5f",
           "arrowhead": 0,
           "arrowwidth": 1
          },
          "autotypenumbers": "strict",
          "coloraxis": {
           "colorbar": {
            "outlinewidth": 0,
            "ticks": ""
           }
          },
          "colorscale": {
           "diverging": [
            [
             0,
             "#8e0152"
            ],
            [
             0.1,
             "#c51b7d"
            ],
            [
             0.2,
             "#de77ae"
            ],
            [
             0.3,
             "#f1b6da"
            ],
            [
             0.4,
             "#fde0ef"
            ],
            [
             0.5,
             "#f7f7f7"
            ],
            [
             0.6,
             "#e6f5d0"
            ],
            [
             0.7,
             "#b8e186"
            ],
            [
             0.8,
             "#7fbc41"
            ],
            [
             0.9,
             "#4d9221"
            ],
            [
             1,
             "#276419"
            ]
           ],
           "sequential": [
            [
             0,
             "#0d0887"
            ],
            [
             0.1111111111111111,
             "#46039f"
            ],
            [
             0.2222222222222222,
             "#7201a8"
            ],
            [
             0.3333333333333333,
             "#9c179e"
            ],
            [
             0.4444444444444444,
             "#bd3786"
            ],
            [
             0.5555555555555556,
             "#d8576b"
            ],
            [
             0.6666666666666666,
             "#ed7953"
            ],
            [
             0.7777777777777778,
             "#fb9f3a"
            ],
            [
             0.8888888888888888,
             "#fdca26"
            ],
            [
             1,
             "#f0f921"
            ]
           ],
           "sequentialminus": [
            [
             0,
             "#0d0887"
            ],
            [
             0.1111111111111111,
             "#46039f"
            ],
            [
             0.2222222222222222,
             "#7201a8"
            ],
            [
             0.3333333333333333,
             "#9c179e"
            ],
            [
             0.4444444444444444,
             "#bd3786"
            ],
            [
             0.5555555555555556,
             "#d8576b"
            ],
            [
             0.6666666666666666,
             "#ed7953"
            ],
            [
             0.7777777777777778,
             "#fb9f3a"
            ],
            [
             0.8888888888888888,
             "#fdca26"
            ],
            [
             1,
             "#f0f921"
            ]
           ]
          },
          "colorway": [
           "#636efa",
           "#EF553B",
           "#00cc96",
           "#ab63fa",
           "#FFA15A",
           "#19d3f3",
           "#FF6692",
           "#B6E880",
           "#FF97FF",
           "#FECB52"
          ],
          "font": {
           "color": "#2a3f5f"
          },
          "geo": {
           "bgcolor": "white",
           "lakecolor": "white",
           "landcolor": "#E5ECF6",
           "showlakes": true,
           "showland": true,
           "subunitcolor": "white"
          },
          "hoverlabel": {
           "align": "left"
          },
          "hovermode": "closest",
          "mapbox": {
           "style": "light"
          },
          "paper_bgcolor": "white",
          "plot_bgcolor": "#E5ECF6",
          "polar": {
           "angularaxis": {
            "gridcolor": "white",
            "linecolor": "white",
            "ticks": ""
           },
           "bgcolor": "#E5ECF6",
           "radialaxis": {
            "gridcolor": "white",
            "linecolor": "white",
            "ticks": ""
           }
          },
          "scene": {
           "xaxis": {
            "backgroundcolor": "#E5ECF6",
            "gridcolor": "white",
            "gridwidth": 2,
            "linecolor": "white",
            "showbackground": true,
            "ticks": "",
            "zerolinecolor": "white"
           },
           "yaxis": {
            "backgroundcolor": "#E5ECF6",
            "gridcolor": "white",
            "gridwidth": 2,
            "linecolor": "white",
            "showbackground": true,
            "ticks": "",
            "zerolinecolor": "white"
           },
           "zaxis": {
            "backgroundcolor": "#E5ECF6",
            "gridcolor": "white",
            "gridwidth": 2,
            "linecolor": "white",
            "showbackground": true,
            "ticks": "",
            "zerolinecolor": "white"
           }
          },
          "shapedefaults": {
           "line": {
            "color": "#2a3f5f"
           }
          },
          "ternary": {
           "aaxis": {
            "gridcolor": "white",
            "linecolor": "white",
            "ticks": ""
           },
           "baxis": {
            "gridcolor": "white",
            "linecolor": "white",
            "ticks": ""
           },
           "bgcolor": "#E5ECF6",
           "caxis": {
            "gridcolor": "white",
            "linecolor": "white",
            "ticks": ""
           }
          },
          "title": {
           "x": 0.05
          },
          "xaxis": {
           "automargin": true,
           "gridcolor": "white",
           "linecolor": "white",
           "ticks": "",
           "title": {
            "standoff": 15
           },
           "zerolinecolor": "white",
           "zerolinewidth": 2
          },
          "yaxis": {
           "automargin": true,
           "gridcolor": "white",
           "linecolor": "white",
           "ticks": "",
           "title": {
            "standoff": 15
           },
           "zerolinecolor": "white",
           "zerolinewidth": 2
          }
         }
        },
        "title": {
         "text": "Daily Case Jawa Barat 2021"
        },
        "xaxis": {
         "anchor": "y",
         "domain": [
          0,
          1
         ],
         "title": {
          "text": "Date"
         }
        },
        "yaxis": {
         "anchor": "x",
         "domain": [
          0,
          1
         ],
         "title": {
          "text": "Daily_Case"
         }
        }
       }
      },
      "text/html": [
       "<div>                            <div id=\"ad8b89a8-8599-46a4-af17-cebbbddb80b9\" class=\"plotly-graph-div\" style=\"height:525px; width:100%;\"></div>            <script type=\"text/javascript\">                require([\"plotly\"], function(Plotly) {                    window.PLOTLYENV=window.PLOTLYENV || {};                                    if (document.getElementById(\"ad8b89a8-8599-46a4-af17-cebbbddb80b9\")) {                    Plotly.newPlot(                        \"ad8b89a8-8599-46a4-af17-cebbbddb80b9\",                        [{\"hovertemplate\":\"<b>%{hovertext}</b><br><br>Date=%{x}<br>Daily_Case=%{marker.size}<br>Daily_Death=%{marker.color}<extra></extra>\",\"hovertext\":[\"1167\",\"1232\",\"1079\",\"1100\",\"1470\",\"1416\",\"1823\",\"1731\",\"1467\",\"1475\",\"1540\",\"1755\",\"2202\",\"3095\",\"3460\",\"1491\",\"1486\",\"1684\",\"1814\",\"1228\",\"2441\",\"1809\",\"2328\",\"2022\",\"3925\",\"3198\",\"4534\",\"3834\",\"4601\",\"2848\",\"2969\",\"2068\",\"2241\",\"2020\",\"2117\",\"3971\",\"1987\",\"1498\",\"776\",\"661\",\"1060\",\"683\",\"1736\",\"881\",\"947\",\"4032\",\"4333\",\"4210\",\"3846\",\"974\",\"1021\",\"3812\",\"4334\",\"2192\",\"2544\",\"2314\",\"876\",\"771\",\"1662\",\"1654\",\"1895\",\"1731\",\"1785\",\"1094\",\"1365\",\"1739\",\"1787\",\"1570\",\"781\",\"1357\",\"925\",\"1133\",\"1334\",\"1617\",\"1347\",\"1261\",\"1361\",\"822\",\"517\",\"1253\",\"1216\",\"1329\",\"1172\",\"855\",\"476\",\"534\",\"1610\",\"911\",\"975\",\"904\",\"661\",\"360\",\"338\",\"910\",\"963\",\"811\",\"673\",\"931\",\"997\",\"747\",\"1470\",\"1456\",\"1568\",\"1216\",\"998\",\"832\",\"769\",\"1422\",\"1399\",\"1004\",\"1358\",\"1066\",\"630\",\"683\",\"1941\",\"1164\",\"1354\",\"1119\",\"1179\",\"754\",\"672\",\"1292\",\"912\",\"995\",\"1038\",\"1953\",\"2209\",\"492\",\"1070\",\"1373\",\"814\",\"400\",\"610\",\"723\",\"792\",\"1361\",\"1119\",\"1219\",\"1332\",\"1085\",\"997\",\"970\",\"1420\",\"1024\",\"660\",\"1370\",\"1206\",\"927\",\"640\",\"1316\",\"892\",\"930\",\"1176\",\"952\",\"993\",\"870\",\"1790\",\"1073\",\"1562\",\"1334\",\"1302\",\"876\",\"1242\"],\"legendgroup\":\"\",\"marker\":{\"color\":[1,2,2,8,11,2,4,6,8,11,15,11,11,27,42,11,28,24,13,73,8,16,8,2,13,105,163,5,28,62,5,78,10,17,28,4,2,12,17,16,18,5,2,6,5,14,3,9,25,5,4,16,23,7,73,7,5,51,4,49,49,45,7,1,2,72,50,24,6,43,2,6,20,35,36,44,34,7,21,48,41,7,12,1,102,7,6,8,6,75,5,5,4,5,69,2,13,22,7,5,25,23,17,42,5,9,9,8,15,44,28,23,23,7,16,17,14,25,29,5,7,16,24,25,6,35,4,8,16,18,22,10,2,9,6,26,39,8,14,16,15,6,19,13,10,15,18,7,10,24,10,22,26,24,16,15,22,26,10,19,14,12,9],\"coloraxis\":\"coloraxis\",\"size\":[1167,1232,1079,1100,1470,1416,1823,1731,1467,1475,1540,1755,2202,3095,3460,1491,1486,1684,1814,1228,2441,1809,2328,2022,3925,3198,4534,3834,4601,2848,2969,2068,2241,2020,2117,3971,1987,1498,776,661,1060,683,1736,881,947,4032,4333,4210,3846,974,1021,3812,4334,2192,2544,2314,876,771,1662,1654,1895,1731,1785,1094,1365,1739,1787,1570,781,1357,925,1133,1334,1617,1347,1261,1361,822,517,1253,1216,1329,1172,855,476,534,1610,911,975,904,661,360,338,910,963,811,673,931,997,747,1470,1456,1568,1216,998,832,769,1422,1399,1004,1358,1066,630,683,1941,1164,1354,1119,1179,754,672,1292,912,995,1038,1953,2209,492,1070,1373,814,400,610,723,792,1361,1119,1219,1332,1085,997,970,1420,1024,660,1370,1206,927,640,1316,892,930,1176,952,993,870,1790,1073,1562,1334,1302,876,1242],\"sizemode\":\"area\",\"sizeref\":7.3616,\"symbol\":\"circle\"},\"mode\":\"markers\",\"name\":\"\",\"orientation\":\"v\",\"showlegend\":false,\"type\":\"scatter\",\"x\":[\"2021-01-02T00:00:00\",\"2021-01-03T00:00:00\",\"2021-01-04T00:00:00\",\"2021-01-05T00:00:00\",\"2021-01-06T00:00:00\",\"2021-01-07T00:00:00\",\"2021-01-08T00:00:00\",\"2021-01-09T00:00:00\",\"2021-01-10T00:00:00\",\"2021-01-11T00:00:00\",\"2021-01-12T00:00:00\",\"2021-01-13T00:00:00\",\"2021-01-14T00:00:00\",\"2021-01-15T00:00:00\",\"2021-01-16T00:00:00\",\"2021-01-17T00:00:00\",\"2021-01-18T00:00:00\",\"2021-01-19T00:00:00\",\"2021-01-20T00:00:00\",\"2021-01-21T00:00:00\",\"2021-01-22T00:00:00\",\"2021-01-23T00:00:00\",\"2021-01-24T00:00:00\",\"2021-01-25T00:00:00\",\"2021-01-26T00:00:00\",\"2021-01-27T00:00:00\",\"2021-01-28T00:00:00\",\"2021-01-29T00:00:00\",\"2021-01-30T00:00:00\",\"2021-01-31T00:00:00\",\"2021-02-01T00:00:00\",\"2021-02-02T00:00:00\",\"2021-02-03T00:00:00\",\"2021-02-04T00:00:00\",\"2021-02-05T00:00:00\",\"2021-02-06T00:00:00\",\"2021-02-07T00:00:00\",\"2021-02-08T00:00:00\",\"2021-02-09T00:00:00\",\"2021-02-10T00:00:00\",\"2021-02-11T00:00:00\",\"2021-02-12T00:00:00\",\"2021-02-13T00:00:00\",\"2021-02-14T00:00:00\",\"2021-02-15T00:00:00\",\"2021-02-16T00:00:00\",\"2021-02-17T00:00:00\",\"2021-02-18T00:00:00\",\"2021-02-19T00:00:00\",\"2021-02-20T00:00:00\",\"2021-02-21T00:00:00\",\"2021-02-22T00:00:00\",\"2021-02-23T00:00:00\",\"2021-02-24T00:00:00\",\"2021-02-25T00:00:00\",\"2021-02-26T00:00:00\",\"2021-02-27T00:00:00\",\"2021-02-28T00:00:00\",\"2021-03-01T00:00:00\",\"2021-03-02T00:00:00\",\"2021-03-03T00:00:00\",\"2021-03-04T00:00:00\",\"2021-03-05T00:00:00\",\"2021-03-06T00:00:00\",\"2021-03-07T00:00:00\",\"2021-03-08T00:00:00\",\"2021-03-09T00:00:00\",\"2021-03-10T00:00:00\",\"2021-03-11T00:00:00\",\"2021-03-12T00:00:00\",\"2021-03-13T00:00:00\",\"2021-03-14T00:00:00\",\"2021-03-15T00:00:00\",\"2021-03-16T00:00:00\",\"2021-03-17T00:00:00\",\"2021-03-18T00:00:00\",\"2021-03-19T00:00:00\",\"2021-03-20T00:00:00\",\"2021-03-21T00:00:00\",\"2021-03-22T00:00:00\",\"2021-03-23T00:00:00\",\"2021-03-24T00:00:00\",\"2021-03-25T00:00:00\",\"2021-03-26T00:00:00\",\"2021-03-27T00:00:00\",\"2021-03-28T00:00:00\",\"2021-03-29T00:00:00\",\"2021-03-30T00:00:00\",\"2021-03-31T00:00:00\",\"2021-04-01T00:00:00\",\"2021-04-02T00:00:00\",\"2021-04-03T00:00:00\",\"2021-04-04T00:00:00\",\"2021-04-05T00:00:00\",\"2021-04-06T00:00:00\",\"2021-04-07T00:00:00\",\"2021-04-08T00:00:00\",\"2021-04-09T00:00:00\",\"2021-04-10T00:00:00\",\"2021-04-11T00:00:00\",\"2021-04-12T00:00:00\",\"2021-04-13T00:00:00\",\"2021-04-14T00:00:00\",\"2021-04-15T00:00:00\",\"2021-04-16T00:00:00\",\"2021-04-17T00:00:00\",\"2021-04-18T00:00:00\",\"2021-04-19T00:00:00\",\"2021-04-20T00:00:00\",\"2021-04-21T00:00:00\",\"2021-04-22T00:00:00\",\"2021-04-23T00:00:00\",\"2021-04-24T00:00:00\",\"2021-04-25T00:00:00\",\"2021-04-26T00:00:00\",\"2021-04-27T00:00:00\",\"2021-04-28T00:00:00\",\"2021-04-29T00:00:00\",\"2021-04-30T00:00:00\",\"2021-05-01T00:00:00\",\"2021-05-02T00:00:00\",\"2021-05-03T00:00:00\",\"2021-05-04T00:00:00\",\"2021-05-05T00:00:00\",\"2021-05-06T00:00:00\",\"2021-05-07T00:00:00\",\"2021-05-08T00:00:00\",\"2021-05-09T00:00:00\",\"2021-05-10T00:00:00\",\"2021-05-11T00:00:00\",\"2021-05-12T00:00:00\",\"2021-05-13T00:00:00\",\"2021-05-14T00:00:00\",\"2021-05-15T00:00:00\",\"2021-05-16T00:00:00\",\"2021-05-17T00:00:00\",\"2021-05-18T00:00:00\",\"2021-05-19T00:00:00\",\"2021-05-20T00:00:00\",\"2021-05-21T00:00:00\",\"2021-05-22T00:00:00\",\"2021-05-23T00:00:00\",\"2021-05-24T00:00:00\",\"2021-05-25T00:00:00\",\"2021-05-26T00:00:00\",\"2021-05-27T00:00:00\",\"2021-05-28T00:00:00\",\"2021-05-29T00:00:00\",\"2021-05-30T00:00:00\",\"2021-05-31T00:00:00\",\"2021-06-01T00:00:00\",\"2021-06-02T00:00:00\",\"2021-06-03T00:00:00\",\"2021-06-04T00:00:00\",\"2021-06-05T00:00:00\",\"2021-06-06T00:00:00\",\"2021-06-07T00:00:00\",\"2021-06-08T00:00:00\",\"2021-06-09T00:00:00\",\"2021-06-10T00:00:00\",\"2021-06-11T00:00:00\",\"2021-06-12T00:00:00\",\"2021-06-13T00:00:00\"],\"xaxis\":\"x\",\"y\":[1167,1232,1079,1100,1470,1416,1823,1731,1467,1475,1540,1755,2202,3095,3460,1491,1486,1684,1814,1228,2441,1809,2328,2022,3925,3198,4534,3834,4601,2848,2969,2068,2241,2020,2117,3971,1987,1498,776,661,1060,683,1736,881,947,4032,4333,4210,3846,974,1021,3812,4334,2192,2544,2314,876,771,1662,1654,1895,1731,1785,1094,1365,1739,1787,1570,781,1357,925,1133,1334,1617,1347,1261,1361,822,517,1253,1216,1329,1172,855,476,534,1610,911,975,904,661,360,338,910,963,811,673,931,997,747,1470,1456,1568,1216,998,832,769,1422,1399,1004,1358,1066,630,683,1941,1164,1354,1119,1179,754,672,1292,912,995,1038,1953,2209,492,1070,1373,814,400,610,723,792,1361,1119,1219,1332,1085,997,970,1420,1024,660,1370,1206,927,640,1316,892,930,1176,952,993,870,1790,1073,1562,1334,1302,876,1242],\"yaxis\":\"y\"}],                        {\"coloraxis\":{\"colorbar\":{\"title\":{\"text\":\"Daily_Death\"}},\"colorscale\":[[0.0,\"#0d0887\"],[0.1111111111111111,\"#46039f\"],[0.2222222222222222,\"#7201a8\"],[0.3333333333333333,\"#9c179e\"],[0.4444444444444444,\"#bd3786\"],[0.5555555555555556,\"#d8576b\"],[0.6666666666666666,\"#ed7953\"],[0.7777777777777778,\"#fb9f3a\"],[0.8888888888888888,\"#fdca26\"],[1.0,\"#f0f921\"]]},\"legend\":{\"itemsizing\":\"constant\",\"tracegroupgap\":0},\"template\":{\"data\":{\"bar\":[{\"error_x\":{\"color\":\"#2a3f5f\"},\"error_y\":{\"color\":\"#2a3f5f\"},\"marker\":{\"line\":{\"color\":\"#E5ECF6\",\"width\":0.5},\"pattern\":{\"fillmode\":\"overlay\",\"size\":10,\"solidity\":0.2}},\"type\":\"bar\"}],\"barpolar\":[{\"marker\":{\"line\":{\"color\":\"#E5ECF6\",\"width\":0.5},\"pattern\":{\"fillmode\":\"overlay\",\"size\":10,\"solidity\":0.2}},\"type\":\"barpolar\"}],\"carpet\":[{\"aaxis\":{\"endlinecolor\":\"#2a3f5f\",\"gridcolor\":\"white\",\"linecolor\":\"white\",\"minorgridcolor\":\"white\",\"startlinecolor\":\"#2a3f5f\"},\"baxis\":{\"endlinecolor\":\"#2a3f5f\",\"gridcolor\":\"white\",\"linecolor\":\"white\",\"minorgridcolor\":\"white\",\"startlinecolor\":\"#2a3f5f\"},\"type\":\"carpet\"}],\"choropleth\":[{\"colorbar\":{\"outlinewidth\":0,\"ticks\":\"\"},\"type\":\"choropleth\"}],\"contour\":[{\"colorbar\":{\"outlinewidth\":0,\"ticks\":\"\"},\"colorscale\":[[0.0,\"#0d0887\"],[0.1111111111111111,\"#46039f\"],[0.2222222222222222,\"#7201a8\"],[0.3333333333333333,\"#9c179e\"],[0.4444444444444444,\"#bd3786\"],[0.5555555555555556,\"#d8576b\"],[0.6666666666666666,\"#ed7953\"],[0.7777777777777778,\"#fb9f3a\"],[0.8888888888888888,\"#fdca26\"],[1.0,\"#f0f921\"]],\"type\":\"contour\"}],\"contourcarpet\":[{\"colorbar\":{\"outlinewidth\":0,\"ticks\":\"\"},\"type\":\"contourcarpet\"}],\"heatmap\":[{\"colorbar\":{\"outlinewidth\":0,\"ticks\":\"\"},\"colorscale\":[[0.0,\"#0d0887\"],[0.1111111111111111,\"#46039f\"],[0.2222222222222222,\"#7201a8\"],[0.3333333333333333,\"#9c179e\"],[0.4444444444444444,\"#bd3786\"],[0.5555555555555556,\"#d8576b\"],[0.6666666666666666,\"#ed7953\"],[0.7777777777777778,\"#fb9f3a\"],[0.8888888888888888,\"#fdca26\"],[1.0,\"#f0f921\"]],\"type\":\"heatmap\"}],\"heatmapgl\":[{\"colorbar\":{\"outlinewidth\":0,\"ticks\":\"\"},\"colorscale\":[[0.0,\"#0d0887\"],[0.1111111111111111,\"#46039f\"],[0.2222222222222222,\"#7201a8\"],[0.3333333333333333,\"#9c179e\"],[0.4444444444444444,\"#bd3786\"],[0.5555555555555556,\"#d8576b\"],[0.6666666666666666,\"#ed7953\"],[0.7777777777777778,\"#fb9f3a\"],[0.8888888888888888,\"#fdca26\"],[1.0,\"#f0f921\"]],\"type\":\"heatmapgl\"}],\"histogram\":[{\"marker\":{\"pattern\":{\"fillmode\":\"overlay\",\"size\":10,\"solidity\":0.2}},\"type\":\"histogram\"}],\"histogram2d\":[{\"colorbar\":{\"outlinewidth\":0,\"ticks\":\"\"},\"colorscale\":[[0.0,\"#0d0887\"],[0.1111111111111111,\"#46039f\"],[0.2222222222222222,\"#7201a8\"],[0.3333333333333333,\"#9c179e\"],[0.4444444444444444,\"#bd3786\"],[0.5555555555555556,\"#d8576b\"],[0.6666666666666666,\"#ed7953\"],[0.7777777777777778,\"#fb9f3a\"],[0.8888888888888888,\"#fdca26\"],[1.0,\"#f0f921\"]],\"type\":\"histogram2d\"}],\"histogram2dcontour\":[{\"colorbar\":{\"outlinewidth\":0,\"ticks\":\"\"},\"colorscale\":[[0.0,\"#0d0887\"],[0.1111111111111111,\"#46039f\"],[0.2222222222222222,\"#7201a8\"],[0.3333333333333333,\"#9c179e\"],[0.4444444444444444,\"#bd3786\"],[0.5555555555555556,\"#d8576b\"],[0.6666666666666666,\"#ed7953\"],[0.7777777777777778,\"#fb9f3a\"],[0.8888888888888888,\"#fdca26\"],[1.0,\"#f0f921\"]],\"type\":\"histogram2dcontour\"}],\"mesh3d\":[{\"colorbar\":{\"outlinewidth\":0,\"ticks\":\"\"},\"type\":\"mesh3d\"}],\"parcoords\":[{\"line\":{\"colorbar\":{\"outlinewidth\":0,\"ticks\":\"\"}},\"type\":\"parcoords\"}],\"pie\":[{\"automargin\":true,\"type\":\"pie\"}],\"scatter\":[{\"marker\":{\"colorbar\":{\"outlinewidth\":0,\"ticks\":\"\"}},\"type\":\"scatter\"}],\"scatter3d\":[{\"line\":{\"colorbar\":{\"outlinewidth\":0,\"ticks\":\"\"}},\"marker\":{\"colorbar\":{\"outlinewidth\":0,\"ticks\":\"\"}},\"type\":\"scatter3d\"}],\"scattercarpet\":[{\"marker\":{\"colorbar\":{\"outlinewidth\":0,\"ticks\":\"\"}},\"type\":\"scattercarpet\"}],\"scattergeo\":[{\"marker\":{\"colorbar\":{\"outlinewidth\":0,\"ticks\":\"\"}},\"type\":\"scattergeo\"}],\"scattergl\":[{\"marker\":{\"colorbar\":{\"outlinewidth\":0,\"ticks\":\"\"}},\"type\":\"scattergl\"}],\"scattermapbox\":[{\"marker\":{\"colorbar\":{\"outlinewidth\":0,\"ticks\":\"\"}},\"type\":\"scattermapbox\"}],\"scatterpolar\":[{\"marker\":{\"colorbar\":{\"outlinewidth\":0,\"ticks\":\"\"}},\"type\":\"scatterpolar\"}],\"scatterpolargl\":[{\"marker\":{\"colorbar\":{\"outlinewidth\":0,\"ticks\":\"\"}},\"type\":\"scatterpolargl\"}],\"scatterternary\":[{\"marker\":{\"colorbar\":{\"outlinewidth\":0,\"ticks\":\"\"}},\"type\":\"scatterternary\"}],\"surface\":[{\"colorbar\":{\"outlinewidth\":0,\"ticks\":\"\"},\"colorscale\":[[0.0,\"#0d0887\"],[0.1111111111111111,\"#46039f\"],[0.2222222222222222,\"#7201a8\"],[0.3333333333333333,\"#9c179e\"],[0.4444444444444444,\"#bd3786\"],[0.5555555555555556,\"#d8576b\"],[0.6666666666666666,\"#ed7953\"],[0.7777777777777778,\"#fb9f3a\"],[0.8888888888888888,\"#fdca26\"],[1.0,\"#f0f921\"]],\"type\":\"surface\"}],\"table\":[{\"cells\":{\"fill\":{\"color\":\"#EBF0F8\"},\"line\":{\"color\":\"white\"}},\"header\":{\"fill\":{\"color\":\"#C8D4E3\"},\"line\":{\"color\":\"white\"}},\"type\":\"table\"}]},\"layout\":{\"annotationdefaults\":{\"arrowcolor\":\"#2a3f5f\",\"arrowhead\":0,\"arrowwidth\":1},\"autotypenumbers\":\"strict\",\"coloraxis\":{\"colorbar\":{\"outlinewidth\":0,\"ticks\":\"\"}},\"colorscale\":{\"diverging\":[[0,\"#8e0152\"],[0.1,\"#c51b7d\"],[0.2,\"#de77ae\"],[0.3,\"#f1b6da\"],[0.4,\"#fde0ef\"],[0.5,\"#f7f7f7\"],[0.6,\"#e6f5d0\"],[0.7,\"#b8e186\"],[0.8,\"#7fbc41\"],[0.9,\"#4d9221\"],[1,\"#276419\"]],\"sequential\":[[0.0,\"#0d0887\"],[0.1111111111111111,\"#46039f\"],[0.2222222222222222,\"#7201a8\"],[0.3333333333333333,\"#9c179e\"],[0.4444444444444444,\"#bd3786\"],[0.5555555555555556,\"#d8576b\"],[0.6666666666666666,\"#ed7953\"],[0.7777777777777778,\"#fb9f3a\"],[0.8888888888888888,\"#fdca26\"],[1.0,\"#f0f921\"]],\"sequentialminus\":[[0.0,\"#0d0887\"],[0.1111111111111111,\"#46039f\"],[0.2222222222222222,\"#7201a8\"],[0.3333333333333333,\"#9c179e\"],[0.4444444444444444,\"#bd3786\"],[0.5555555555555556,\"#d8576b\"],[0.6666666666666666,\"#ed7953\"],[0.7777777777777778,\"#fb9f3a\"],[0.8888888888888888,\"#fdca26\"],[1.0,\"#f0f921\"]]},\"colorway\":[\"#636efa\",\"#EF553B\",\"#00cc96\",\"#ab63fa\",\"#FFA15A\",\"#19d3f3\",\"#FF6692\",\"#B6E880\",\"#FF97FF\",\"#FECB52\"],\"font\":{\"color\":\"#2a3f5f\"},\"geo\":{\"bgcolor\":\"white\",\"lakecolor\":\"white\",\"landcolor\":\"#E5ECF6\",\"showlakes\":true,\"showland\":true,\"subunitcolor\":\"white\"},\"hoverlabel\":{\"align\":\"left\"},\"hovermode\":\"closest\",\"mapbox\":{\"style\":\"light\"},\"paper_bgcolor\":\"white\",\"plot_bgcolor\":\"#E5ECF6\",\"polar\":{\"angularaxis\":{\"gridcolor\":\"white\",\"linecolor\":\"white\",\"ticks\":\"\"},\"bgcolor\":\"#E5ECF6\",\"radialaxis\":{\"gridcolor\":\"white\",\"linecolor\":\"white\",\"ticks\":\"\"}},\"scene\":{\"xaxis\":{\"backgroundcolor\":\"#E5ECF6\",\"gridcolor\":\"white\",\"gridwidth\":2,\"linecolor\":\"white\",\"showbackground\":true,\"ticks\":\"\",\"zerolinecolor\":\"white\"},\"yaxis\":{\"backgroundcolor\":\"#E5ECF6\",\"gridcolor\":\"white\",\"gridwidth\":2,\"linecolor\":\"white\",\"showbackground\":true,\"ticks\":\"\",\"zerolinecolor\":\"white\"},\"zaxis\":{\"backgroundcolor\":\"#E5ECF6\",\"gridcolor\":\"white\",\"gridwidth\":2,\"linecolor\":\"white\",\"showbackground\":true,\"ticks\":\"\",\"zerolinecolor\":\"white\"}},\"shapedefaults\":{\"line\":{\"color\":\"#2a3f5f\"}},\"ternary\":{\"aaxis\":{\"gridcolor\":\"white\",\"linecolor\":\"white\",\"ticks\":\"\"},\"baxis\":{\"gridcolor\":\"white\",\"linecolor\":\"white\",\"ticks\":\"\"},\"bgcolor\":\"#E5ECF6\",\"caxis\":{\"gridcolor\":\"white\",\"linecolor\":\"white\",\"ticks\":\"\"}},\"title\":{\"x\":0.05},\"xaxis\":{\"automargin\":true,\"gridcolor\":\"white\",\"linecolor\":\"white\",\"ticks\":\"\",\"title\":{\"standoff\":15},\"zerolinecolor\":\"white\",\"zerolinewidth\":2},\"yaxis\":{\"automargin\":true,\"gridcolor\":\"white\",\"linecolor\":\"white\",\"ticks\":\"\",\"title\":{\"standoff\":15},\"zerolinecolor\":\"white\",\"zerolinewidth\":2}}},\"title\":{\"text\":\"Daily Case Jawa Barat 2021\"},\"xaxis\":{\"anchor\":\"y\",\"domain\":[0.0,1.0],\"title\":{\"text\":\"Date\"}},\"yaxis\":{\"anchor\":\"x\",\"domain\":[0.0,1.0],\"title\":{\"text\":\"Daily_Case\"}}},                        {\"responsive\": true}                    ).then(function(){\n",
       "                            \n",
       "var gd = document.getElementById('ad8b89a8-8599-46a4-af17-cebbbddb80b9');\n",
       "var x = new MutationObserver(function (mutations, observer) {{\n",
       "        var display = window.getComputedStyle(gd).display;\n",
       "        if (!display || display === 'none') {{\n",
       "            console.log([gd, 'removed!']);\n",
       "            Plotly.purge(gd);\n",
       "            observer.disconnect();\n",
       "        }}\n",
       "}});\n",
       "\n",
       "// Listen for the removal of the full notebook cells\n",
       "var notebookContainer = gd.closest('#notebook-container');\n",
       "if (notebookContainer) {{\n",
       "    x.observe(notebookContainer, {childList: true});\n",
       "}}\n",
       "\n",
       "// Listen for the clearing of the current output cell\n",
       "var outputEl = gd.closest('.output');\n",
       "if (outputEl) {{\n",
       "    x.observe(outputEl, {childList: true});\n",
       "}}\n",
       "\n",
       "                        })                };                });            </script>        </div>"
      ]
     },
     "metadata": {},
     "output_type": "display_data"
    }
   ],
   "source": [
    "import plotly.express as px\n",
    "\n",
    "df['Date'] = pd.to_datetime(df['Date'], format='%d/%m/%Y')\n",
    "\n",
    "df_2021 = df.query(\"Date > '01/01/2021' \")\n",
    "\n",
    "df_jabar = df.query(\"Province == 'JAWA BARAT' & Date > '01/01/2021'\")\n",
    "\n",
    "px.line(df_2021, x='Date', y='Daily_Case', color='Province')\n",
    "\n",
    "px.bar(df_jabar, x='Date', y='Daily_Case', color='Daily_Death')\n",
    "\n",
    "px.pie(df, values='Daily_Case', names='Province', title='Daily Case by Province' )\n",
    "\n",
    "px.scatter(df_jabar, x=\"Date\", y=\"Daily_Case\", size=\"Daily_Case\", color=\"Daily_Death\", hover_name=\"Daily_Case\", size_max=25, title=\"Daily Case Jawa Barat 2021\")"
   ]
  }
 ],
 "metadata": {
  "celltoolbar": "Slideshow",
  "kernelspec": {
   "display_name": "Python 3",
   "language": "python",
   "name": "python3"
  },
  "language_info": {
   "codemirror_mode": {
    "name": "ipython",
    "version": 3
   },
   "file_extension": ".py",
   "mimetype": "text/x-python",
   "name": "python",
   "nbconvert_exporter": "python",
   "pygments_lexer": "ipython3",
   "version": "3.9.5"
  }
 },
 "nbformat": 4,
 "nbformat_minor": 5
}
